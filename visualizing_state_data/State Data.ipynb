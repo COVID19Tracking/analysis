{
 "cells": [
  {
   "cell_type": "markdown",
   "metadata": {},
   "source": [
    "# Explore state reporting statistics\n",
    "\n",
    "[CovidTracking.com](https://covidtracking.com/api) collects daily COVID-19 testing data from US states and territories. The quality of data and what data can be collected varies from state to state. This leads to questions: What data has been collected? How does data vary from state to state? How has this changed over time?"
   ]
  },
  {
   "cell_type": "code",
   "execution_count": null,
   "metadata": {},
   "outputs": [],
   "source": [
    "%matplotlib inline\n",
    "import pandas as pd\n",
    "import numpy as np\n",
    "import seaborn as sns\n",
    "import matplotlib.pyplot as plt\n",
    "import matplotlib.ticker as mtick\n",
    "import matplotlib.colors as colors\n",
    "from datetime import date"
   ]
  },
  {
   "cell_type": "code",
   "execution_count": null,
   "metadata": {},
   "outputs": [],
   "source": [
    "pd.options.display.max_columns = None\n",
    "pd.set_option('display.max_colwidth', None)\n",
    "pd.set_option('display.max_rows', None)"
   ]
  },
  {
   "cell_type": "markdown",
   "metadata": {},
   "source": [
    "# Import Data"
   ]
  },
  {
   "cell_type": "code",
   "execution_count": null,
   "metadata": {},
   "outputs": [],
   "source": [
    "daily = pd.read_csv(\"https://covidtracking.com/api/states/daily.csv\", parse_dates=['date', 'dateChecked'])"
   ]
  },
  {
   "cell_type": "code",
   "execution_count": null,
   "metadata": {},
   "outputs": [],
   "source": [
    "daily.info()"
   ]
  },
  {
   "cell_type": "markdown",
   "metadata": {},
   "source": [
    "### Drop some deprecated and calculated columns\n",
    "\n",
    "Some statistics are deprecated and some are calculated from previous and current values. Since our interest is on data that is collected from each state, we will drop many of these columns. For a full explanation of these statistics, see [https://covidtracking.com/api#states-historical-data](https://covidtracking.com/api#states-historical-data)"
   ]
  },
  {
   "cell_type": "code",
   "execution_count": null,
   "metadata": {},
   "outputs": [],
   "source": [
    "deprecated = ['total', 'posNeg', 'hash']\n",
    "calculated = ['totalTestResults', 'deathIncrease',\n",
    "    'hospitalizedIncrease', 'negativeIncrease', 'positiveIncrease',\n",
    "    'totalTestResultsIncrease']"
   ]
  },
  {
   "cell_type": "code",
   "execution_count": null,
   "metadata": {},
   "outputs": [],
   "source": [
    "daily.drop([*deprecated, *calculated, 'fips', 'dateChecked', 'hash'], axis=1, inplace=True)"
   ]
  },
  {
   "cell_type": "code",
   "execution_count": null,
   "metadata": {},
   "outputs": [],
   "source": [
    "daily.head()"
   ]
  },
  {
   "cell_type": "markdown",
   "metadata": {},
   "source": [
    "# Create a new DataFrame where rows reference a date and columns represent a count of the number of states that have reported for that given statistic"
   ]
  },
  {
   "cell_type": "code",
   "execution_count": null,
   "metadata": {},
   "outputs": [],
   "source": [
    "aggregated_columns = list(daily.columns[2:])"
   ]
  },
  {
   "cell_type": "code",
   "execution_count": null,
   "metadata": {},
   "outputs": [],
   "source": [
    "data_completeness = daily.groupby('date').apply(lambda x: x.loc[:, aggregated_columns].count())"
   ]
  },
  {
   "cell_type": "code",
   "execution_count": null,
   "metadata": {},
   "outputs": [],
   "source": [
    "data_completeness['ordinal'] = data_completeness.index.to_series().apply(lambda d: d.toordinal())\n",
    "data_completeness.tail()"
   ]
  },
  {
   "cell_type": "markdown",
   "metadata": {},
   "source": [
    "# Explore the frequency of reporting over time\n",
    "\n",
    "Since [some statistics are sparsely reported](https://covidtracking.com/data), it is helpul to understand the reporting frequency of some statistics over time."
   ]
  },
  {
   "cell_type": "code",
   "execution_count": null,
   "metadata": {},
   "outputs": [],
   "source": [
    "plt.close('all')\n",
    "plt.style.use('default')\n",
    "plt.style.use('ggplot')\n",
    "\n",
    "fig, axes = plt.subplots(5, 1, figsize=(10, 6), dpi=150, sharex=True, sharey=True, tight_layout=True)\n",
    "\n",
    "_dc=data_completeness.copy()\n",
    "\n",
    "x = _dc['ordinal']\n",
    "y = _dc['positive']\n",
    "\n",
    "label_groups = [aggregated_columns[0:3], aggregated_columns[9:12], aggregated_columns[3:5], aggregated_columns[5:7], aggregated_columns[7:9]]\n",
    "\n",
    "x_ticks = np.linspace(min(x), max(x), num=8)\n",
    "y_ticks = np.linspace(0, max(y), num=5)\n",
    "\n",
    "for i, ax in enumerate(fig.axes):\n",
    "    labels = [*label_groups[i]]\n",
    "    width = 1 / len(labels)\n",
    "    bars = [ax.bar(x + (i * width), _dc[f], width, label=f) for i, f in enumerate(labels)]\n",
    "    ax.set_xticks(x_ticks)\n",
    "    ax.set_yticks(y_ticks)\n",
    "    new_labels = [date.fromordinal(int(xt)).strftime(\"%b %d, %Y\") for xt in ax.get_xticks()]\n",
    "    ax.set_xticklabels(new_labels)\n",
    "    ax.xaxis.set_tick_params(rotation=25, labelsize=7)\n",
    "    ax.yaxis.set_tick_params(labelsize=6)\n",
    "    ax.legend(handles=[*bars], loc='upper left', framealpha=0.9, fontsize=6)\n",
    "\n",
    "fig.text(-0.05, 0.5, 'Number of States and Territories Reporting', va='center', rotation='vertical')\n",
    "\n",
    "plt.show()"
   ]
  },
  {
   "cell_type": "markdown",
   "metadata": {},
   "source": [
    "# Examine relationships between reporting counts and grade\n",
    "\n",
    "[State reporting grades are calculated](https://covidtracking.com/about-data#state-data-quality-grades) using a variety of factors. Lets see if there are any relationships between grade and certain statistics."
   ]
  },
  {
   "cell_type": "code",
   "execution_count": null,
   "metadata": {},
   "outputs": [],
   "source": [
    "from pandas.api.types import CategoricalDtype"
   ]
  },
  {
   "cell_type": "markdown",
   "metadata": {},
   "source": [
    "# Import the current state data\n",
    "\n",
    "This data contains the grade and other statistics. For a full explanation see [https://covidtracking.com/api#states-current-values](https://covidtracking.com/api#states-current-values)"
   ]
  },
  {
   "cell_type": "code",
   "execution_count": null,
   "metadata": {},
   "outputs": [],
   "source": [
    "current = pd.read_csv('https://covidtracking.com/api/v1/states/current.csv')"
   ]
  },
  {
   "cell_type": "markdown",
   "metadata": {},
   "source": [
    "### Convert grade to a numeric"
   ]
  },
  {
   "cell_type": "code",
   "execution_count": null,
   "metadata": {},
   "outputs": [],
   "source": [
    "list(current['dataQualityGrade'].value_counts().sort_index().index)"
   ]
  },
  {
   "cell_type": "code",
   "execution_count": null,
   "metadata": {},
   "outputs": [],
   "source": [
    "# Reverse the array becuase we want A+ to have the highest value and F to have the lowest\n",
    "categories = ['A+', 'A', 'B', 'C', 'D', 'F'][::-1]\n",
    "categories"
   ]
  },
  {
   "cell_type": "code",
   "execution_count": null,
   "metadata": {},
   "outputs": [],
   "source": [
    "# Create the category type and change `dataQualityGrade` to the category type `cat_type`\n",
    "cat_type = CategoricalDtype(categories=categories, ordered=True)\n",
    "current['dataQualityGrade'] = current['dataQualityGrade'].astype(cat_type)"
   ]
  },
  {
   "cell_type": "code",
   "execution_count": null,
   "metadata": {},
   "outputs": [],
   "source": [
    "# Create a new dataframe with just state and grade\n",
    "quality = current.loc[:, ['state', 'dataQualityGrade']].sort_values(by='dataQualityGrade')\n",
    "# Generate codes -> grade mapping\n",
    "grade_codes, grade_uniques = pd.factorize(quality['dataQualityGrade'])\n",
    "# Create new column containing grades as integers\n",
    "quality['dataQualityCode'] = grade_codes"
   ]
  },
  {
   "cell_type": "code",
   "execution_count": null,
   "metadata": {},
   "outputs": [],
   "source": [
    "quality.tail()"
   ]
  },
  {
   "cell_type": "markdown",
   "metadata": {},
   "source": [
    "# Create a new DataFrame that aggregates and counts all reported statistics by state"
   ]
  },
  {
   "cell_type": "code",
   "execution_count": null,
   "metadata": {},
   "outputs": [],
   "source": [
    "states = daily.groupby('state').apply(lambda x: x.loc[:, aggregated_columns].count())"
   ]
  },
  {
   "cell_type": "markdown",
   "metadata": {},
   "source": [
    "### Create a sum column that sums all of the report counts"
   ]
  },
  {
   "cell_type": "code",
   "execution_count": null,
   "metadata": {},
   "outputs": [],
   "source": [
    "states['sum'] = states.sum(axis=1)"
   ]
  },
  {
   "cell_type": "markdown",
   "metadata": {},
   "source": [
    "### Join DataFrames containing state reporting counts and quality grades"
   ]
  },
  {
   "cell_type": "code",
   "execution_count": null,
   "metadata": {},
   "outputs": [],
   "source": [
    "all_data = states.join(quality.set_index('state'), on='state').sort_values(by='dataQualityCode')"
   ]
  },
  {
   "cell_type": "markdown",
   "metadata": {},
   "source": [
    "# Look for correlations between grade and other reported statistics"
   ]
  },
  {
   "cell_type": "code",
   "execution_count": null,
   "metadata": {},
   "outputs": [],
   "source": [
    "cm = colors.LinearSegmentedColormap.from_list('my_map', ['#951556', '#35013f'])"
   ]
  },
  {
   "cell_type": "code",
   "execution_count": null,
   "metadata": {},
   "outputs": [],
   "source": [
    "def getBackground(t):\n",
    "    return 'background-color: %s; color: %s;' % (colors.to_hex(t), '#f6f5f5')"
   ]
  },
  {
   "cell_type": "code",
   "execution_count": null,
   "metadata": {},
   "outputs": [],
   "source": [
    "def highlight_cells(x):\n",
    "    return [getBackground(cm(i[1])) for i in x.items()]"
   ]
  },
  {
   "cell_type": "code",
   "execution_count": null,
   "metadata": {},
   "outputs": [],
   "source": [
    "correlations = all_data.corr()\n",
    "correlations.style.apply(highlight_cells)"
   ]
  },
  {
   "cell_type": "markdown",
   "metadata": {},
   "source": [
    "# Data quality grade correlations sorted:"
   ]
  },
  {
   "cell_type": "code",
   "execution_count": null,
   "metadata": {},
   "outputs": [],
   "source": [
    "correlations['dataQualityCode'].sort_values(ascending=False)"
   ]
  },
  {
   "cell_type": "markdown",
   "metadata": {},
   "source": [
    "# Plot states by grade\n",
    "\n",
    "This is perhaps not very useful, but here is a plot of states sorted by their grade."
   ]
  },
  {
   "cell_type": "code",
   "execution_count": null,
   "metadata": {},
   "outputs": [],
   "source": [
    "fig, ax = plt.subplots(figsize=(6, 6), dpi=150)\n",
    "y_pos = np.arange(0, len(all_data), 1)\n",
    "x_grade = all_data['dataQualityCode'].values\n",
    "# x_sum = np.interp(all_data['sum'].values, np.linspace(0, all_data['sum'].max(), num=6), np.arange(0,len(categories),1) )\n",
    "# x_icu = np.interp(all_data['inIcuCurrently'].values, np.linspace(0, all_data['inIcuCurrently'].max(), num=6), np.arange(0,6,1) )\n",
    "\n",
    "width = 0.5\n",
    "\n",
    "ax.barh(y_pos, x_grade, width, align='center')\n",
    "# ax.barh(y_pos - width/2, x_sum, width, align='center')\n",
    "# ax.barh(y_pos + width/2, x_icu, width, align='center')\n",
    "ax.set_yticks(y_pos)\n",
    "ax.set_xticklabels(categories)\n",
    "ax.set_yticklabels(list(all_data.index))\n",
    "ax.yaxis.set_tick_params(labelsize=5)\n",
    "plt.show()"
   ]
  },
  {
   "cell_type": "code",
   "execution_count": null,
   "metadata": {},
   "outputs": [],
   "source": []
  }
 ],
 "metadata": {
  "kernelspec": {
   "display_name": "Python 3",
   "language": "python",
   "name": "python3"
  },
  "language_info": {
   "codemirror_mode": {
    "name": "ipython",
    "version": 3
   },
   "file_extension": ".py",
   "mimetype": "text/x-python",
   "name": "python",
   "nbconvert_exporter": "python",
   "pygments_lexer": "ipython3",
   "version": "3.7.6"
  }
 },
 "nbformat": 4,
 "nbformat_minor": 4
}